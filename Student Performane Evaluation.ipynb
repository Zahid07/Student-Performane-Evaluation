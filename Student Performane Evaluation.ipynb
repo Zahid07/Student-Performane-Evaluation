{
 "cells": [
  {
   "cell_type": "markdown",
   "id": "bdad366b",
   "metadata": {},
   "source": [
    "## Importing all the libraries"
   ]
  },
  {
   "cell_type": "code",
   "execution_count": 1,
   "id": "6bef748d",
   "metadata": {},
   "outputs": [],
   "source": [
    "import numpy as np\n",
    "import pandas as pd\n",
    "\n",
    "import matplotlib.pyplot as plt\n",
    "import seaborn as sns"
   ]
  },
  {
   "cell_type": "markdown",
   "id": "02442439",
   "metadata": {},
   "source": [
    "## Loading dataset and checking its shape"
   ]
  },
  {
   "cell_type": "code",
   "execution_count": 2,
   "id": "8fcc04fc",
   "metadata": {},
   "outputs": [
    {
     "name": "stdout",
     "output_type": "stream",
     "text": [
      "(1000, 8)\n"
     ]
    }
   ],
   "source": [
    "dataset = pd.read_csv('StudentsPerformance.csv') # Importing dataset\n",
    "\n",
    "print(dataset.shape) # checking shape of data"
   ]
  },
  {
   "cell_type": "code",
   "execution_count": 3,
   "id": "c51d5f2a",
   "metadata": {},
   "outputs": [
    {
     "data": {
      "text/plain": [
       "Index(['gender', 'race/ethnicity', 'parental level of education', 'lunch',\n",
       "       'test preparation course', 'math score', 'reading score',\n",
       "       'writing score'],\n",
       "      dtype='object')"
      ]
     },
     "execution_count": 3,
     "metadata": {},
     "output_type": "execute_result"
    }
   ],
   "source": [
    "dataset.columns # Displaying the columns of the dataset"
   ]
  },
  {
   "cell_type": "code",
   "execution_count": 4,
   "id": "8283f582",
   "metadata": {},
   "outputs": [
    {
     "data": {
      "text/html": [
       "<div>\n",
       "<style scoped>\n",
       "    .dataframe tbody tr th:only-of-type {\n",
       "        vertical-align: middle;\n",
       "    }\n",
       "\n",
       "    .dataframe tbody tr th {\n",
       "        vertical-align: top;\n",
       "    }\n",
       "\n",
       "    .dataframe thead th {\n",
       "        text-align: right;\n",
       "    }\n",
       "</style>\n",
       "<table border=\"1\" class=\"dataframe\">\n",
       "  <thead>\n",
       "    <tr style=\"text-align: right;\">\n",
       "      <th></th>\n",
       "      <th>gender</th>\n",
       "      <th>race/ethnicity</th>\n",
       "      <th>parental level of education</th>\n",
       "      <th>lunch</th>\n",
       "      <th>test preparation course</th>\n",
       "      <th>math score</th>\n",
       "      <th>reading score</th>\n",
       "      <th>writing score</th>\n",
       "    </tr>\n",
       "  </thead>\n",
       "  <tbody>\n",
       "    <tr>\n",
       "      <th>0</th>\n",
       "      <td>female</td>\n",
       "      <td>group B</td>\n",
       "      <td>bachelor's degree</td>\n",
       "      <td>standard</td>\n",
       "      <td>none</td>\n",
       "      <td>72</td>\n",
       "      <td>72</td>\n",
       "      <td>74</td>\n",
       "    </tr>\n",
       "    <tr>\n",
       "      <th>1</th>\n",
       "      <td>female</td>\n",
       "      <td>group C</td>\n",
       "      <td>some college</td>\n",
       "      <td>standard</td>\n",
       "      <td>completed</td>\n",
       "      <td>69</td>\n",
       "      <td>90</td>\n",
       "      <td>88</td>\n",
       "    </tr>\n",
       "    <tr>\n",
       "      <th>2</th>\n",
       "      <td>female</td>\n",
       "      <td>group B</td>\n",
       "      <td>master's degree</td>\n",
       "      <td>standard</td>\n",
       "      <td>none</td>\n",
       "      <td>90</td>\n",
       "      <td>95</td>\n",
       "      <td>93</td>\n",
       "    </tr>\n",
       "    <tr>\n",
       "      <th>3</th>\n",
       "      <td>male</td>\n",
       "      <td>group A</td>\n",
       "      <td>associate's degree</td>\n",
       "      <td>free/reduced</td>\n",
       "      <td>none</td>\n",
       "      <td>47</td>\n",
       "      <td>57</td>\n",
       "      <td>44</td>\n",
       "    </tr>\n",
       "    <tr>\n",
       "      <th>4</th>\n",
       "      <td>male</td>\n",
       "      <td>group C</td>\n",
       "      <td>some college</td>\n",
       "      <td>standard</td>\n",
       "      <td>none</td>\n",
       "      <td>76</td>\n",
       "      <td>78</td>\n",
       "      <td>75</td>\n",
       "    </tr>\n",
       "  </tbody>\n",
       "</table>\n",
       "</div>"
      ],
      "text/plain": [
       "   gender race/ethnicity parental level of education         lunch  \\\n",
       "0  female        group B           bachelor's degree      standard   \n",
       "1  female        group C                some college      standard   \n",
       "2  female        group B             master's degree      standard   \n",
       "3    male        group A          associate's degree  free/reduced   \n",
       "4    male        group C                some college      standard   \n",
       "\n",
       "  test preparation course  math score  reading score  writing score  \n",
       "0                    none          72             72             74  \n",
       "1               completed          69             90             88  \n",
       "2                    none          90             95             93  \n",
       "3                    none          47             57             44  \n",
       "4                    none          76             78             75  "
      ]
     },
     "execution_count": 4,
     "metadata": {},
     "output_type": "execute_result"
    }
   ],
   "source": [
    "dataset.head() # Displaying head of the dataset"
   ]
  },
  {
   "cell_type": "code",
   "execution_count": 5,
   "id": "16cdeeff",
   "metadata": {},
   "outputs": [
    {
     "name": "stdout",
     "output_type": "stream",
     "text": [
      "<class 'pandas.core.frame.DataFrame'>\n",
      "RangeIndex: 1000 entries, 0 to 999\n",
      "Data columns (total 8 columns):\n",
      " #   Column                       Non-Null Count  Dtype \n",
      "---  ------                       --------------  ----- \n",
      " 0   gender                       1000 non-null   object\n",
      " 1   race/ethnicity               1000 non-null   object\n",
      " 2   parental level of education  1000 non-null   object\n",
      " 3   lunch                        1000 non-null   object\n",
      " 4   test preparation course      1000 non-null   object\n",
      " 5   math score                   1000 non-null   int64 \n",
      " 6   reading score                1000 non-null   int64 \n",
      " 7   writing score                1000 non-null   int64 \n",
      "dtypes: int64(3), object(5)\n",
      "memory usage: 62.6+ KB\n"
     ]
    }
   ],
   "source": [
    "dataset.info() # To check information of data"
   ]
  },
  {
   "cell_type": "code",
   "execution_count": 6,
   "id": "e8b8c197",
   "metadata": {},
   "outputs": [
    {
     "data": {
      "text/plain": [
       "gender                         0\n",
       "race/ethnicity                 0\n",
       "parental level of education    0\n",
       "lunch                          0\n",
       "test preparation course        0\n",
       "math score                     0\n",
       "reading score                  0\n",
       "writing score                  0\n",
       "dtype: int64"
      ]
     },
     "execution_count": 6,
     "metadata": {},
     "output_type": "execute_result"
    }
   ],
   "source": [
    "dataset.isnull().sum() # Checking if there are null values in the dataset"
   ]
  },
  {
   "cell_type": "code",
   "execution_count": 7,
   "id": "b1a3d281",
   "metadata": {},
   "outputs": [
    {
     "data": {
      "text/plain": [
       "gender                         2\n",
       "race/ethnicity                 5\n",
       "parental level of education    6\n",
       "lunch                          2\n",
       "test preparation course        2\n",
       "dtype: int64"
      ]
     },
     "execution_count": 7,
     "metadata": {},
     "output_type": "execute_result"
    }
   ],
   "source": [
    "dataset.select_dtypes('object').nunique() # Checking number of unique members is each dataset"
   ]
  },
  {
   "cell_type": "code",
   "execution_count": 8,
   "id": "914397ae",
   "metadata": {},
   "outputs": [
    {
     "name": "stdout",
     "output_type": "stream",
     "text": [
      "gender = : \n",
      "['female' 'male'] \n",
      "\n",
      "race/ethnicity = : \n",
      "['group B' 'group C' 'group A' 'group D' 'group E'] \n",
      "\n",
      "parental level of education = : \n",
      "[\"bachelor's degree\" 'some college' \"master's degree\" \"associate's degree\"\n",
      " 'high school' 'some high school'] \n",
      "\n",
      "lunch = : \n",
      "['standard' 'free/reduced'] \n",
      "\n",
      "test preparation course variable = : \n",
      "['none' 'completed'] \n",
      "\n"
     ]
    }
   ],
   "source": [
    "print(\"gender = : \")\n",
    "print(dataset['gender'].unique(), \"\\n\")\n",
    "print(\"race/ethnicity = : \")\n",
    "print(dataset['race/ethnicity'].unique(),  \"\\n\")\n",
    "print(\"parental level of education = : \")\n",
    "print(dataset['parental level of education'].unique(),  \"\\n\")\n",
    "print(\"lunch = : \")\n",
    "print(dataset['lunch'].unique(),  \"\\n\")\n",
    "print(\"test preparation course variable = : \")\n",
    "print(dataset['test preparation course'].unique(),  \"\\n\")"
   ]
  },
  {
   "cell_type": "code",
   "execution_count": 9,
   "id": "017c4f2f",
   "metadata": {},
   "outputs": [
    {
     "data": {
      "text/html": [
       "<div>\n",
       "<style scoped>\n",
       "    .dataframe tbody tr th:only-of-type {\n",
       "        vertical-align: middle;\n",
       "    }\n",
       "\n",
       "    .dataframe tbody tr th {\n",
       "        vertical-align: top;\n",
       "    }\n",
       "\n",
       "    .dataframe thead th {\n",
       "        text-align: right;\n",
       "    }\n",
       "</style>\n",
       "<table border=\"1\" class=\"dataframe\">\n",
       "  <thead>\n",
       "    <tr style=\"text-align: right;\">\n",
       "      <th></th>\n",
       "      <th>math score</th>\n",
       "      <th>reading score</th>\n",
       "      <th>writing score</th>\n",
       "    </tr>\n",
       "  </thead>\n",
       "  <tbody>\n",
       "    <tr>\n",
       "      <th>count</th>\n",
       "      <td>1000.00000</td>\n",
       "      <td>1000.000000</td>\n",
       "      <td>1000.000000</td>\n",
       "    </tr>\n",
       "    <tr>\n",
       "      <th>mean</th>\n",
       "      <td>66.08900</td>\n",
       "      <td>69.169000</td>\n",
       "      <td>68.054000</td>\n",
       "    </tr>\n",
       "    <tr>\n",
       "      <th>std</th>\n",
       "      <td>15.16308</td>\n",
       "      <td>14.600192</td>\n",
       "      <td>15.195657</td>\n",
       "    </tr>\n",
       "    <tr>\n",
       "      <th>min</th>\n",
       "      <td>0.00000</td>\n",
       "      <td>17.000000</td>\n",
       "      <td>10.000000</td>\n",
       "    </tr>\n",
       "    <tr>\n",
       "      <th>25%</th>\n",
       "      <td>57.00000</td>\n",
       "      <td>59.000000</td>\n",
       "      <td>57.750000</td>\n",
       "    </tr>\n",
       "    <tr>\n",
       "      <th>50%</th>\n",
       "      <td>66.00000</td>\n",
       "      <td>70.000000</td>\n",
       "      <td>69.000000</td>\n",
       "    </tr>\n",
       "    <tr>\n",
       "      <th>75%</th>\n",
       "      <td>77.00000</td>\n",
       "      <td>79.000000</td>\n",
       "      <td>79.000000</td>\n",
       "    </tr>\n",
       "    <tr>\n",
       "      <th>max</th>\n",
       "      <td>100.00000</td>\n",
       "      <td>100.000000</td>\n",
       "      <td>100.000000</td>\n",
       "    </tr>\n",
       "  </tbody>\n",
       "</table>\n",
       "</div>"
      ],
      "text/plain": [
       "       math score  reading score  writing score\n",
       "count  1000.00000    1000.000000    1000.000000\n",
       "mean     66.08900      69.169000      68.054000\n",
       "std      15.16308      14.600192      15.195657\n",
       "min       0.00000      17.000000      10.000000\n",
       "25%      57.00000      59.000000      57.750000\n",
       "50%      66.00000      70.000000      69.000000\n",
       "75%      77.00000      79.000000      79.000000\n",
       "max     100.00000     100.000000     100.000000"
      ]
     },
     "execution_count": 9,
     "metadata": {},
     "output_type": "execute_result"
    }
   ],
   "source": [
    "dataset.describe() # Displaying the information about columns containing numerical data"
   ]
  },
  {
   "cell_type": "markdown",
   "id": "9e731107",
   "metadata": {},
   "source": [
    "## Now creating a function to tell whether a student has failed or not using a criteria"
   ]
  },
  {
   "cell_type": "code",
   "execution_count": 10,
   "id": "73a39554",
   "metadata": {},
   "outputs": [],
   "source": [
    "#Function created to tell if a student has passed or failed\n",
    "def passFail(Math, Writing, Reading):\n",
    "    if(Math>50 and Writing>50 and Reading>50):\n",
    "        return 'P'\n",
    "    else:\n",
    "        return 'F'"
   ]
  },
  {
   "cell_type": "markdown",
   "id": "89014e84",
   "metadata": {},
   "source": [
    "## Adding a new column 'class' which is used for pass or fail"
   ]
  },
  {
   "cell_type": "code",
   "execution_count": 11,
   "id": "5008405e",
   "metadata": {},
   "outputs": [],
   "source": [
    "dataset['class']=dataset.apply(lambda x: passFail(x['math score'],x['writing score'],x['reading score']),axis = 1 )"
   ]
  },
  {
   "cell_type": "code",
   "execution_count": 13,
   "id": "f4dcf8e6",
   "metadata": {},
   "outputs": [
    {
     "data": {
      "text/plain": [
       "P    796\n",
       "F    204\n",
       "Name: class, dtype: int64"
      ]
     },
     "execution_count": 13,
     "metadata": {},
     "output_type": "execute_result"
    }
   ],
   "source": [
    "# Count of number of students who have passed and failed\n",
    "dataset['class'].value_counts() "
   ]
  },
  {
   "cell_type": "code",
   "execution_count": 14,
   "id": "55c98ec3",
   "metadata": {},
   "outputs": [
    {
     "data": {
      "text/plain": [
       "female    518\n",
       "male      482\n",
       "Name: gender, dtype: int64"
      ]
     },
     "execution_count": 14,
     "metadata": {},
     "output_type": "execute_result"
    }
   ],
   "source": [
    "# Count the number of males and females in the dataset\n",
    "dataset['gender'].value_counts()"
   ]
  },
  {
   "cell_type": "markdown",
   "id": "53b99042",
   "metadata": {},
   "source": [
    "### Now starting to plot our data to check which columns are needed."
   ]
  },
  {
   "cell_type": "code",
   "execution_count": 15,
   "id": "da8928c8",
   "metadata": {},
   "outputs": [
    {
     "data": {
      "image/png": "[encoded data removed]",
      "text/plain": [
       "<Figure size 432x288 with 1 Axes>"
      ]
     },
     "metadata": {
      "needs_background": "light"
     },
     "output_type": "display_data"
    }
   ],
   "source": [
    "# Bar plot of class \n",
    "\n",
    "dataset['class'].value_counts(normalize = True)\n",
    "dataset['class'].value_counts(dropna = False).plot.bar(color = 'Red')\n",
    "plt.title('Comparison of Pass and Fail')\n",
    "plt.xlabel('class')\n",
    "plt.ylabel('count')\n",
    "plt.show()"
   ]
  },
  {
   "cell_type": "code",
   "execution_count": 16,
   "id": "a40902e8",
   "metadata": {},
   "outputs": [
    {
     "data": {
      "image/png": "[encoded data removed]",
      "text/plain": [
       "<Figure size 432x288 with 1 Axes>"
      ]
     },
     "metadata": {
      "needs_background": "light"
     },
     "output_type": "display_data"
    }
   ],
   "source": [
    "# Bar plot of gender\n",
    "\n",
    "dataset['gender'].value_counts(normalize = True)\n",
    "dataset['gender'].value_counts(dropna = False).plot.bar(color = 'Yellow')\n",
    "plt.title('Comparison of Males and Females')\n",
    "plt.xlabel('gender')\n",
    "plt.ylabel('count')\n",
    "plt.show()"
   ]
  },
  {
   "cell_type": "code",
   "execution_count": 17,
   "id": "80a1fdd9",
   "metadata": {},
   "outputs": [
    {
     "data": {
      "text/plain": [
       "<AxesSubplot:xlabel='class'>"
      ]
     },
     "execution_count": 17,
     "metadata": {},
     "output_type": "execute_result"
    },
    {
     "data": {
      "image/png": "[encoded data removed]",
      "text/plain": [
       "<Figure size 504x288 with 1 Axes>"
      ]
     },
     "metadata": {
      "needs_background": "light"
     },
     "output_type": "display_data"
    }
   ],
   "source": [
    "# Crosstab of class and gender\n",
    "x = pd.crosstab(dataset['class'], dataset['gender'])\n",
    "x.div(x.sum(1).astype(float), axis = 0).plot(kind = 'bar', stacked = True, figsize = (7, 4))"
   ]
  },
  {
   "cell_type": "code",
   "execution_count": 18,
   "id": "4f771c13",
   "metadata": {},
   "outputs": [
    {
     "data": {
      "image/png": "[encoded data removed]",
      "text/plain": [
       "<Figure size 360x720 with 3 Axes>"
      ]
     },
     "metadata": {
      "needs_background": "light"
     },
     "output_type": "display_data"
    }
   ],
   "source": [
    "# Gender with maths score, reading score and writing score\n",
    "fig,ax = plt.subplots(3,1, figsize = (5,10))\n",
    "sns.barplot(x=dataset['gender'],y=dataset['math score'], ax=ax[0], linewidth=2.5)\n",
    "sns.barplot(x=dataset['gender'],y=dataset['reading score'], ax=ax[1],linewidth=2.5)\n",
    "sns.barplot(x=dataset['gender'],y=dataset['writing score'], ax=ax[2],linewidth=2.5)\n",
    "plt.tight_layout()\n",
    "\n",
    "# In the following plot we see that the male students have performed well in the math, and females have performed\n",
    "# well in reading and writing"
   ]
  },
  {
   "cell_type": "code",
   "execution_count": 19,
   "id": "751eb499",
   "metadata": {},
   "outputs": [
    {
     "data": {
      "image/png": "[encoded data removed]",
      "text/plain": [
       "<Figure size 432x864 with 3 Axes>"
      ]
     },
     "metadata": {
      "needs_background": "light"
     },
     "output_type": "display_data"
    }
   ],
   "source": [
    "fig,ax = plt.subplots(3,1, figsize = (6,12))\n",
    "\n",
    "sns.boxplot(x=dataset['gender'],y=dataset['math score'],ax=ax[0])\n",
    "sns.boxplot(x=dataset['gender'],y=dataset['reading score'],ax=ax[1])\n",
    "sns.boxplot(x=dataset['gender'],y=dataset['writing score'],ax=ax[2])\n",
    "plt.tight_layout()\n",
    "\n",
    "# Here below we can see the outlier with the median in all 3 subjects. This can be compared to above plot, which shows that \n",
    "# males have performed will in maths and females have performed well in reading and writing, with less outliers."
   ]
  },
  {
   "cell_type": "code",
   "execution_count": 20,
   "id": "2e146003",
   "metadata": {},
   "outputs": [
    {
     "data": {
      "text/plain": [
       "group C    319\n",
       "group D    262\n",
       "group B    190\n",
       "group E    140\n",
       "group A     89\n",
       "Name: race/ethnicity, dtype: int64"
      ]
     },
     "execution_count": 20,
     "metadata": {},
     "output_type": "execute_result"
    }
   ],
   "source": [
    "# Counting students in each race/ethnicity\n",
    "dataset['race/ethnicity'].value_counts()"
   ]
  },
  {
   "cell_type": "code",
   "execution_count": 22,
   "id": "6e33e346",
   "metadata": {},
   "outputs": [
    {
     "name": "stderr",
     "output_type": "stream",
     "text": [
      "C:\\Users\\LENOVO\\AppData\\Local\\Programs\\Python\\Python310\\lib\\site-packages\\seaborn\\_decorators.py:36: FutureWarning: Pass the following variable as a keyword arg: x. From version 0.12, the only valid positional argument will be `data`, and passing other arguments without an explicit keyword will result in an error or misinterpretation.\n",
      "  warnings.warn(\n"
     ]
    },
    {
     "data": {
      "text/plain": [
       "(array([0, 1, 2, 3, 4]),\n",
       " [Text(0, 0, 'group B'),\n",
       "  Text(1, 0, 'group C'),\n",
       "  Text(2, 0, 'group D'),\n",
       "  Text(3, 0, 'group A'),\n",
       "  Text(4, 0, 'group E')])"
      ]
     },
     "execution_count": 22,
     "metadata": {},
     "output_type": "execute_result"
    },
    {
     "data": {
      "image/png": "[encoded data removed]",
      "text/plain": [
       "<Figure size 432x288 with 1 Axes>"
      ]
     },
     "metadata": {
      "needs_background": "light"
     },
     "output_type": "display_data"
    }
   ],
   "source": [
    "sns.countplot(dataset['race/ethnicity'].loc[dataset['class']=='P']) # Plotting the students who have passed\n",
    "plt.xticks(rotation = 50)"
   ]
  },
  {
   "cell_type": "code",
   "execution_count": 23,
   "id": "ad0ba2c4",
   "metadata": {},
   "outputs": [
    {
     "name": "stderr",
     "output_type": "stream",
     "text": [
      "C:\\Users\\LENOVO\\AppData\\Local\\Programs\\Python\\Python310\\lib\\site-packages\\seaborn\\_decorators.py:36: FutureWarning: Pass the following variable as a keyword arg: x. From version 0.12, the only valid positional argument will be `data`, and passing other arguments without an explicit keyword will result in an error or misinterpretation.\n",
      "  warnings.warn(\n"
     ]
    },
    {
     "data": {
      "text/plain": [
       "Text(0, 0.5, 'Number of students')"
      ]
     },
     "execution_count": 23,
     "metadata": {},
     "output_type": "execute_result"
    },
    {
     "data": {
      "image/png": "[encoded data removed]",
      "text/plain": [
       "<Figure size 432x288 with 1 Axes>"
      ]
     },
     "metadata": {
      "needs_background": "light"
     },
     "output_type": "display_data"
    }
   ],
   "source": [
    "# Students who have passed or failed in comparison to race/ethnicity\n",
    "\n",
    "sns.countplot(dataset['race/ethnicity'],hue=dataset['class'])\n",
    "plt.ylabel('Number of students')"
   ]
  },
  {
   "cell_type": "code",
   "execution_count": 24,
   "id": "da35dc26",
   "metadata": {},
   "outputs": [
    {
     "data": {
      "image/png": "[encoded data removed]",
      "text/plain": [
       "<Figure size 720x1080 with 3 Axes>"
      ]
     },
     "metadata": {
      "needs_background": "light"
     },
     "output_type": "display_data"
    }
   ],
   "source": [
    "fig, ax = plt.subplots(3,1, figsize=(10,15))\n",
    "sns.boxplot(x=dataset['race/ethnicity'],y=dataset['math score'],ax=ax[0])\n",
    "sns.boxplot(x=dataset['race/ethnicity'],y=dataset['reading score'],ax=ax[1])\n",
    "sns.boxplot(x=dataset['race/ethnicity'],y=dataset['writing score'],ax=ax[2])\n",
    "plt.tight_layout()\n",
    "\n",
    "# Here we can see that group A has done bad compared to group E"
   ]
  },
  {
   "cell_type": "code",
   "execution_count": 25,
   "id": "99685799",
   "metadata": {},
   "outputs": [
    {
     "data": {
      "text/plain": [
       "some college          226\n",
       "associate's degree    222\n",
       "high school           196\n",
       "some high school      179\n",
       "bachelor's degree     118\n",
       "master's degree        59\n",
       "Name: parental level of education, dtype: int64"
      ]
     },
     "execution_count": 25,
     "metadata": {},
     "output_type": "execute_result"
    }
   ],
   "source": [
    "# Counting students in each parental level of education\n",
    "dataset['parental level of education'].value_counts()"
   ]
  },
  {
   "cell_type": "code",
   "execution_count": 27,
   "id": "68b709fe",
   "metadata": {},
   "outputs": [
    {
     "name": "stderr",
     "output_type": "stream",
     "text": [
      "C:\\Users\\LENOVO\\AppData\\Local\\Programs\\Python\\Python310\\lib\\site-packages\\seaborn\\_decorators.py:36: FutureWarning: Pass the following variable as a keyword arg: x. From version 0.12, the only valid positional argument will be `data`, and passing other arguments without an explicit keyword will result in an error or misinterpretation.\n",
      "  warnings.warn(\n"
     ]
    },
    {
     "data": {
      "text/plain": [
       "(array([0, 1, 2, 3, 4, 5]),\n",
       " [Text(0, 0, \"bachelor's degree\"),\n",
       "  Text(1, 0, 'some college'),\n",
       "  Text(2, 0, \"master's degree\"),\n",
       "  Text(3, 0, \"associate's degree\"),\n",
       "  Text(4, 0, 'high school'),\n",
       "  Text(5, 0, 'some high school')])"
      ]
     },
     "execution_count": 27,
     "metadata": {},
     "output_type": "execute_result"
    },
    {
     "data": {
      "image/png": "[encoded data removed]",
      "text/plain": [
       "<Figure size 432x288 with 1 Axes>"
      ]
     },
     "metadata": {
      "needs_background": "light"
     },
     "output_type": "display_data"
    }
   ],
   "source": [
    "sns.countplot(dataset['parental level of education'].loc[dataset['class']=='P'])\n",
    "plt.xticks(rotation = 30)"
   ]
  },
  {
   "cell_type": "code",
   "execution_count": 28,
   "id": "93c45f00",
   "metadata": {},
   "outputs": [
    {
     "name": "stderr",
     "output_type": "stream",
     "text": [
      "C:\\Users\\LENOVO\\AppData\\Local\\Programs\\Python\\Python310\\lib\\site-packages\\seaborn\\_decorators.py:36: FutureWarning: Pass the following variable as a keyword arg: x. From version 0.12, the only valid positional argument will be `data`, and passing other arguments without an explicit keyword will result in an error or misinterpretation.\n",
      "  warnings.warn(\n"
     ]
    },
    {
     "data": {
      "text/plain": [
       "Text(0, 0.5, 'Number of students')"
      ]
     },
     "execution_count": 28,
     "metadata": {},
     "output_type": "execute_result"
    },
    {
     "data": {
      "image/png": "[encoded data removed]",
      "text/plain": [
       "<Figure size 720x576 with 1 Axes>"
      ]
     },
     "metadata": {
      "needs_background": "light"
     },
     "output_type": "display_data"
    }
   ],
   "source": [
    "#Pass/Fail according to parental level of education\n",
    "\n",
    "plt.figure(figsize= (10,8))\n",
    "sns.countplot(dataset['parental level of education'],hue=dataset['class'])\n",
    "plt.xticks(rotation=90)\n",
    "plt.ylabel('Number of students')\n",
    "\n",
    "# The following graph shows that there is an impact of parental level of education on the number of students that \n",
    "# pass and fail"
   ]
  },
  {
   "cell_type": "code",
   "execution_count": 29,
   "id": "a2f191c0",
   "metadata": {},
   "outputs": [
    {
     "data": {
      "text/plain": [
       "standard        562\n",
       "free/reduced    234\n",
       "Name: lunch, dtype: int64"
      ]
     },
     "execution_count": 29,
     "metadata": {},
     "output_type": "execute_result"
    }
   ],
   "source": [
    "# Counting students in terms of the type of lunch\n",
    "dataset['lunch'].loc[dataset['class']=='P'].value_counts()"
   ]
  },
  {
   "cell_type": "code",
   "execution_count": 30,
   "id": "84884c9c",
   "metadata": {},
   "outputs": [
    {
     "name": "stderr",
     "output_type": "stream",
     "text": [
      "C:\\Users\\LENOVO\\AppData\\Local\\Programs\\Python\\Python310\\lib\\site-packages\\seaborn\\_decorators.py:36: FutureWarning: Pass the following variable as a keyword arg: x. From version 0.12, the only valid positional argument will be `data`, and passing other arguments without an explicit keyword will result in an error or misinterpretation.\n",
      "  warnings.warn(\n"
     ]
    },
    {
     "data": {
      "text/plain": [
       "<AxesSubplot:xlabel='lunch', ylabel='count'>"
      ]
     },
     "execution_count": 30,
     "metadata": {},
     "output_type": "execute_result"
    },
    {
     "data": {
      "image/png": "[encoded data removed]",
      "text/plain": [
       "<Figure size 432x288 with 1 Axes>"
      ]
     },
     "metadata": {
      "needs_background": "light"
     },
     "output_type": "display_data"
    }
   ],
   "source": [
    "#Plotting the number of students who passed and failed in each type of lunch\n",
    "sns.countplot(dataset['lunch'],hue=dataset['class'])\n",
    "\n",
    "# The following graph shows that students with standard lunch have passed more than the students who have got free/reduced"
   ]
  },
  {
   "cell_type": "code",
   "execution_count": 31,
   "id": "af34c39c",
   "metadata": {},
   "outputs": [
    {
     "data": {
      "text/plain": [
       "none         642\n",
       "completed    358\n",
       "Name: test preparation course, dtype: int64"
      ]
     },
     "execution_count": 31,
     "metadata": {},
     "output_type": "execute_result"
    }
   ],
   "source": [
    "# Counting students in terms of test preperation course\n",
    "dataset['test preparation course'].value_counts()"
   ]
  },
  {
   "cell_type": "code",
   "execution_count": 32,
   "id": "79deb2d2",
   "metadata": {},
   "outputs": [
    {
     "name": "stderr",
     "output_type": "stream",
     "text": [
      "C:\\Users\\LENOVO\\AppData\\Local\\Programs\\Python\\Python310\\lib\\site-packages\\seaborn\\_decorators.py:36: FutureWarning: Pass the following variable as a keyword arg: x. From version 0.12, the only valid positional argument will be `data`, and passing other arguments without an explicit keyword will result in an error or misinterpretation.\n",
      "  warnings.warn(\n"
     ]
    },
    {
     "data": {
      "text/plain": [
       "<AxesSubplot:xlabel='test preparation course', ylabel='count'>"
      ]
     },
     "execution_count": 32,
     "metadata": {},
     "output_type": "execute_result"
    },
    {
     "data": {
      "image/png": "[encoded data removed]",
      "text/plain": [
       "<Figure size 432x288 with 1 Axes>"
      ]
     },
     "metadata": {
      "needs_background": "light"
     },
     "output_type": "display_data"
    }
   ],
   "source": [
    "#Plotting the number of students who passed and failed in each type of lunch\n",
    "sns.countplot(dataset['test preparation course'],hue=dataset['class'])\n",
    "\n",
    "# THe followiing graph shows that students who had no preperation failed more than the ones who had"
   ]
  },
  {
   "cell_type": "code",
   "execution_count": 33,
   "id": "2c5463f8",
   "metadata": {},
   "outputs": [
    {
     "data": {
      "text/plain": [
       "(array([0.5, 1.5, 2.5]),\n",
       " [Text(0.5, 0, 'math score'),\n",
       "  Text(1.5, 0, 'reading score'),\n",
       "  Text(2.5, 0, 'writing score')])"
      ]
     },
     "execution_count": 33,
     "metadata": {},
     "output_type": "execute_result"
    },
    {
     "data": {
      "image/png": "[encoded data removed]",
      "text/plain": [
       "<Figure size 432x288 with 2 Axes>"
      ]
     },
     "metadata": {
      "needs_background": "light"
     },
     "output_type": "display_data"
    }
   ],
   "source": [
    "sns.heatmap(dataset.corr(), cmap =\"Reds\")\n",
    "plt.xticks(rotation=90)\n",
    "\n",
    "# The following heat-map shows that there is correlation between the subjects"
   ]
  },
  {
   "cell_type": "markdown",
   "id": "bdd051cd",
   "metadata": {},
   "source": [
    "### Now using label encoder to encode our string data to numerical data"
   ]
  },
  {
   "cell_type": "code",
   "execution_count": 34,
   "id": "e5857944",
   "metadata": {},
   "outputs": [
    {
     "name": "stdout",
     "output_type": "stream",
     "text": [
      "test preparation course = : \n",
      "['none' 'completed'] \n",
      "\n"
     ]
    },
    {
     "data": {
      "text/plain": [
       "1    642\n",
       "0    358\n",
       "Name: test preparation course, dtype: int64"
      ]
     },
     "execution_count": 34,
     "metadata": {},
     "output_type": "execute_result"
    }
   ],
   "source": [
    "from sklearn.preprocessing import LabelEncoder\n",
    "\n",
    "print(\"test preparation course = : \")\n",
    "print(dataset['test preparation course'].unique(),  \"\\n\")\n",
    "\n",
    "# encoder created here\n",
    "encoder = LabelEncoder()\n",
    "\n",
    "# label encoding for test preparation course\n",
    "dataset['test preparation course'] = encoder.fit_transform(dataset['test preparation course'])\n",
    "dataset['test preparation course'].value_counts()"
   ]
  },
  {
   "cell_type": "code",
   "execution_count": 35,
   "id": "7d94a333",
   "metadata": {},
   "outputs": [
    {
     "name": "stdout",
     "output_type": "stream",
     "text": [
      "lunch = : \n",
      "['standard' 'free/reduced'] \n",
      "\n"
     ]
    },
    {
     "data": {
      "text/plain": [
       "1    645\n",
       "0    355\n",
       "Name: lunch, dtype: int64"
      ]
     },
     "execution_count": 35,
     "metadata": {},
     "output_type": "execute_result"
    }
   ],
   "source": [
    "print(\"lunch = : \")\n",
    "print(dataset['lunch'].unique(),  \"\\n\")\n",
    "\n",
    "# label encoding for lunch\n",
    "dataset['lunch'] = encoder.fit_transform(dataset['lunch'])\n",
    "dataset['lunch'].value_counts()"
   ]
  },
  {
   "cell_type": "code",
   "execution_count": 36,
   "id": "7847dfdf",
   "metadata": {},
   "outputs": [
    {
     "name": "stdout",
     "output_type": "stream",
     "text": [
      "race/ethnicity = : \n",
      "['group B' 'group C' 'group A' 'group D' 'group E'] \n",
      "\n"
     ]
    },
    {
     "data": {
      "text/plain": [
       "3    319\n",
       "4    262\n",
       "2    190\n",
       "5    140\n",
       "1     89\n",
       "Name: race/ethnicity, dtype: int64"
      ]
     },
     "execution_count": 36,
     "metadata": {},
     "output_type": "execute_result"
    }
   ],
   "source": [
    "\n",
    "print(\"race/ethnicity = : \")\n",
    "print(dataset['race/ethnicity'].unique(),  \"\\n\")\n",
    "\n",
    "# label encoding for race/ethnicity\n",
    "\n",
    "dataset['race/ethnicity'] = dataset['race/ethnicity'].replace('group A', 1)\n",
    "dataset['race/ethnicity'] = dataset['race/ethnicity'].replace('group B', 2)\n",
    "dataset['race/ethnicity'] = dataset['race/ethnicity'].replace('group C', 3)\n",
    "dataset['race/ethnicity'] = dataset['race/ethnicity'].replace('group D', 4)\n",
    "dataset['race/ethnicity'] = dataset['race/ethnicity'].replace('group E', 5)\n",
    "\n",
    "dataset['race/ethnicity'].value_counts()"
   ]
  },
  {
   "cell_type": "code",
   "execution_count": 37,
   "id": "3fc10448",
   "metadata": {},
   "outputs": [
    {
     "name": "stdout",
     "output_type": "stream",
     "text": [
      "parental level of education = : \n",
      "[\"bachelor's degree\" 'some college' \"master's degree\" \"associate's degree\"\n",
      " 'high school' 'some high school'] \n",
      "\n"
     ]
    },
    {
     "data": {
      "text/plain": [
       "4    226\n",
       "0    222\n",
       "2    196\n",
       "5    179\n",
       "1    118\n",
       "3     59\n",
       "Name: parental level of education, dtype: int64"
      ]
     },
     "execution_count": 37,
     "metadata": {},
     "output_type": "execute_result"
    }
   ],
   "source": [
    "\n",
    "print(\"parental level of education = : \")\n",
    "print(dataset['parental level of education'].unique(),  \"\\n\")\n",
    "\n",
    "# label encoding for parental level of education\n",
    "\n",
    "dataset['parental level of education'] = encoder.fit_transform(dataset['parental level of education'])\n",
    "dataset['parental level of education'].value_counts()"
   ]
  },
  {
   "cell_type": "code",
   "execution_count": 38,
   "id": "ef37fcf2",
   "metadata": {},
   "outputs": [
    {
     "name": "stdout",
     "output_type": "stream",
     "text": [
      "gender = : \n",
      "['female' 'male'] \n",
      "\n"
     ]
    },
    {
     "data": {
      "text/plain": [
       "0    518\n",
       "1    482\n",
       "Name: gender, dtype: int64"
      ]
     },
     "execution_count": 38,
     "metadata": {},
     "output_type": "execute_result"
    }
   ],
   "source": [
    "\n",
    "print(\"gender = : \")\n",
    "print(dataset['gender'].unique(),  \"\\n\")\n",
    "\n",
    "# label encoding for gender\n",
    "\n",
    "dataset['gender'] = encoder.fit_transform(dataset['gender'])\n",
    "dataset['gender'].value_counts()"
   ]
  },
  {
   "cell_type": "code",
   "execution_count": 41,
   "id": "6e5cde19",
   "metadata": {},
   "outputs": [
    {
     "name": "stdout",
     "output_type": "stream",
     "text": [
      "gender = : \n",
      "['P' 'F'] \n",
      "\n"
     ]
    },
    {
     "data": {
      "text/plain": [
       "1    796\n",
       "0    204\n",
       "Name: class, dtype: int64"
      ]
     },
     "execution_count": 41,
     "metadata": {},
     "output_type": "execute_result"
    }
   ],
   "source": [
    "\n",
    "print(\"gender = : \")\n",
    "print(dataset['class'].unique(),  \"\\n\")\n",
    "\n",
    "# label encoding for pass/fail\n",
    "\n",
    "dataset['class'] = encoder.fit_transform(dataset['class'])\n",
    "dataset['class'].value_counts()"
   ]
  },
  {
   "cell_type": "markdown",
   "id": "c9c42134",
   "metadata": {},
   "source": [
    "### Now checking shape and head of data again with our new column 'class'"
   ]
  },
  {
   "cell_type": "code",
   "execution_count": 42,
   "id": "0225b47f",
   "metadata": {},
   "outputs": [
    {
     "data": {
      "text/plain": [
       "(1000, 9)"
      ]
     },
     "execution_count": 42,
     "metadata": {},
     "output_type": "execute_result"
    }
   ],
   "source": [
    "dataset.shape"
   ]
  },
  {
   "cell_type": "code",
   "execution_count": 43,
   "id": "a5793b4e",
   "metadata": {},
   "outputs": [
    {
     "data": {
      "text/html": [
       "<div>\n",
       "<style scoped>\n",
       "    .dataframe tbody tr th:only-of-type {\n",
       "        vertical-align: middle;\n",
       "    }\n",
       "\n",
       "    .dataframe tbody tr th {\n",
       "        vertical-align: top;\n",
       "    }\n",
       "\n",
       "    .dataframe thead th {\n",
       "        text-align: right;\n",
       "    }\n",
       "</style>\n",
       "<table border=\"1\" class=\"dataframe\">\n",
       "  <thead>\n",
       "    <tr style=\"text-align: right;\">\n",
       "      <th></th>\n",
       "      <th>gender</th>\n",
       "      <th>race/ethnicity</th>\n",
       "      <th>parental level of education</th>\n",
       "      <th>lunch</th>\n",
       "      <th>test preparation course</th>\n",
       "      <th>math score</th>\n",
       "      <th>reading score</th>\n",
       "      <th>writing score</th>\n",
       "      <th>class</th>\n",
       "    </tr>\n",
       "  </thead>\n",
       "  <tbody>\n",
       "    <tr>\n",
       "      <th>0</th>\n",
       "      <td>0</td>\n",
       "      <td>2</td>\n",
       "      <td>1</td>\n",
       "      <td>1</td>\n",
       "      <td>1</td>\n",
       "      <td>72</td>\n",
       "      <td>72</td>\n",
       "      <td>74</td>\n",
       "      <td>1</td>\n",
       "    </tr>\n",
       "    <tr>\n",
       "      <th>1</th>\n",
       "      <td>0</td>\n",
       "      <td>3</td>\n",
       "      <td>4</td>\n",
       "      <td>1</td>\n",
       "      <td>0</td>\n",
       "      <td>69</td>\n",
       "      <td>90</td>\n",
       "      <td>88</td>\n",
       "      <td>1</td>\n",
       "    </tr>\n",
       "    <tr>\n",
       "      <th>2</th>\n",
       "      <td>0</td>\n",
       "      <td>2</td>\n",
       "      <td>3</td>\n",
       "      <td>1</td>\n",
       "      <td>1</td>\n",
       "      <td>90</td>\n",
       "      <td>95</td>\n",
       "      <td>93</td>\n",
       "      <td>1</td>\n",
       "    </tr>\n",
       "    <tr>\n",
       "      <th>3</th>\n",
       "      <td>1</td>\n",
       "      <td>1</td>\n",
       "      <td>0</td>\n",
       "      <td>0</td>\n",
       "      <td>1</td>\n",
       "      <td>47</td>\n",
       "      <td>57</td>\n",
       "      <td>44</td>\n",
       "      <td>0</td>\n",
       "    </tr>\n",
       "    <tr>\n",
       "      <th>4</th>\n",
       "      <td>1</td>\n",
       "      <td>3</td>\n",
       "      <td>4</td>\n",
       "      <td>1</td>\n",
       "      <td>1</td>\n",
       "      <td>76</td>\n",
       "      <td>78</td>\n",
       "      <td>75</td>\n",
       "      <td>1</td>\n",
       "    </tr>\n",
       "  </tbody>\n",
       "</table>\n",
       "</div>"
      ],
      "text/plain": [
       "   gender  race/ethnicity  parental level of education  lunch  \\\n",
       "0       0               2                            1      1   \n",
       "1       0               3                            4      1   \n",
       "2       0               2                            3      1   \n",
       "3       1               1                            0      0   \n",
       "4       1               3                            4      1   \n",
       "\n",
       "   test preparation course  math score  reading score  writing score  class  \n",
       "0                        1          72             72             74      1  \n",
       "1                        0          69             90             88      1  \n",
       "2                        1          90             95             93      1  \n",
       "3                        1          47             57             44      0  \n",
       "4                        1          76             78             75      1  "
      ]
     },
     "execution_count": 43,
     "metadata": {},
     "output_type": "execute_result"
    }
   ],
   "source": [
    "dataset.head()\n",
    "\n",
    "# Now we have our data in all the numerical form"
   ]
  },
  {
   "cell_type": "markdown",
   "id": "d144ce4e",
   "metadata": {},
   "source": [
    "### Now splitting our data where y is the 'class' column and the rest are x"
   ]
  },
  {
   "cell_type": "code",
   "execution_count": 44,
   "id": "a63e5759",
   "metadata": {},
   "outputs": [
    {
     "name": "stdout",
     "output_type": "stream",
     "text": [
      "(1000, 8)\n",
      "(1000,)\n"
     ]
    }
   ],
   "source": [
    "\n",
    "# splitting the dependent and independent variables\n",
    "\n",
    "x = dataset.iloc[:,:8]\n",
    "y = dataset.iloc[:,8]\n",
    "\n",
    "print(x.shape)\n",
    "print(y.shape)"
   ]
  },
  {
   "cell_type": "code",
   "execution_count": 45,
   "id": "3d735b15",
   "metadata": {},
   "outputs": [
    {
     "name": "stdout",
     "output_type": "stream",
     "text": [
      "(750, 8)\n",
      "(750,)\n",
      "(250, 8)\n",
      "(250,)\n"
     ]
    }
   ],
   "source": [
    "# splitting the dataset into training and test sets\n",
    "\n",
    "from sklearn.model_selection import train_test_split\n",
    "\n",
    "x_train, x_test, y_train, y_test = train_test_split(x, y, test_size = 0.25, random_state = 42)\n",
    "\n",
    "print(x_train.shape)\n",
    "print(y_train.shape)\n",
    "print(x_test.shape)\n",
    "print(y_test.shape)"
   ]
  },
  {
   "cell_type": "markdown",
   "id": "bbcaf4e4",
   "metadata": {},
   "source": [
    "### Scaling our data so that all the columns are in a similar scale"
   ]
  },
  {
   "cell_type": "code",
   "execution_count": 46,
   "id": "10398cf9",
   "metadata": {},
   "outputs": [],
   "source": [
    "# importing the MinMaxScaler\n",
    "from sklearn.preprocessing import MinMaxScaler\n",
    "\n",
    "# creating a scaler\n",
    "scaler = MinMaxScaler()\n",
    "\n",
    "# transforming the independent variable\n",
    "x_train = scaler.fit_transform(x_train)\n",
    "x_test = scaler.transform(x_test)"
   ]
  },
  {
   "cell_type": "markdown",
   "id": "3626897c",
   "metadata": {},
   "source": [
    "### Applying Logistic Regression to evaluate students, and displaying confusion matrix and kfold cross validation to avoid overfitting"
   ]
  },
  {
   "cell_type": "code",
   "execution_count": 47,
   "id": "72891f62",
   "metadata": {},
   "outputs": [
    {
     "name": "stdout",
     "output_type": "stream",
     "text": [
      "Training Accuracy : 0.956\n",
      "Testing Accuracy : 0.96\n"
     ]
    }
   ],
   "source": [
    "# Importing Logistic Regression\n",
    "from sklearn.linear_model import  LogisticRegression\n",
    "\n",
    "# creating a model of logistic regression\n",
    "model = LogisticRegression()\n",
    "\n",
    "# training data into model\n",
    "model.fit(x_train, y_train)\n",
    "\n",
    "# predicting test data values\n",
    "y_pred = model.predict(x_test)\n",
    "\n",
    "# calculating accuracies\n",
    "print(\"Training Accuracy :\", model.score(x_train, y_train))\n",
    "print(\"Testing Accuracy :\", model.score(x_test, y_test))"
   ]
  },
  {
   "cell_type": "code",
   "execution_count": 48,
   "id": "9c3d8746",
   "metadata": {},
   "outputs": [
    {
     "name": "stdout",
     "output_type": "stream",
     "text": [
      "[[ 49   7]\n",
      " [  3 191]]\n"
     ]
    }
   ],
   "source": [
    "# Importing Confusion Matrix\n",
    "\n",
    "from sklearn.metrics import confusion_matrix\n",
    "\n",
    "# creating a confusion matrix\n",
    "matrix = confusion_matrix(y_test, y_pred)\n",
    "\n",
    "# printing confusion matrix\n",
    "print(matrix)"
   ]
  },
  {
   "cell_type": "code",
   "execution_count": 49,
   "id": "c76cd8dd",
   "metadata": {},
   "outputs": [
    {
     "name": "stdout",
     "output_type": "stream",
     "text": [
      "[0.97368421 0.89473684 0.94736842 0.92105263 1.         0.97368421\n",
      " 0.94736842 0.97368421 0.89473684 0.92105263 0.91891892 1.\n",
      " 0.94594595 0.97297297 0.94594595 0.94594595 0.94594595 1.\n",
      " 0.97297297 0.97297297]\n",
      "mean accuracy : 0.9534495021337126\n",
      "mean standard variance : 0.03111083058902891\n"
     ]
    }
   ],
   "source": [
    "# k fold cross validation to avoid overfitting of the model\n",
    "\n",
    "from sklearn.model_selection import cross_val_score\n",
    "\n",
    "# accuracies for 20 different model's accuracy\n",
    "accuracies = cross_val_score(estimator = model, X = x_train, y = y_train, cv = 20)\n",
    "print(accuracies)\n",
    "\n",
    "#  mean of accuaracies obtained by all the models\n",
    "print(\"mean accuracy :\", accuracies.mean())\n",
    "\n",
    "# standard variance of the models\n",
    "print(\"mean standard variance :\", accuracies.std())"
   ]
  },
  {
   "cell_type": "markdown",
   "id": "e9fb03e4",
   "metadata": {},
   "source": [
    "### Applying Random Forest Classifier to evaluate students, and displaying confusion matrix and kfold cross validation to avoid overfitting"
   ]
  },
  {
   "cell_type": "code",
   "execution_count": 50,
   "id": "f1e0720f",
   "metadata": {},
   "outputs": [
    {
     "name": "stdout",
     "output_type": "stream",
     "text": [
      "Training Accuracy : 1.0\n",
      "Testing Accuracy : 0.992\n"
     ]
    }
   ],
   "source": [
    "# Importing Random Forest Classifier\n",
    "from sklearn.ensemble import RandomForestClassifier\n",
    "\n",
    "# creating a model of Random Forest Classifier\n",
    "model = RandomForestClassifier()\n",
    "\n",
    "# training data into model\n",
    "model.fit(x_train, y_train)\n",
    "\n",
    "# predicting test data values\n",
    "y_pred = model.predict(x_test)\n",
    "\n",
    "# calculating accuracies\n",
    "print(\"Training Accuracy :\", model.score(x_train, y_train))\n",
    "print(\"Testing Accuracy :\", model.score(x_test, y_test))"
   ]
  },
  {
   "cell_type": "code",
   "execution_count": 51,
   "id": "72075b44",
   "metadata": {},
   "outputs": [
    {
     "name": "stdout",
     "output_type": "stream",
     "text": [
      "[[ 56   0]\n",
      " [  2 192]]\n"
     ]
    }
   ],
   "source": [
    "# Importing Confusion Matrix\n",
    "\n",
    "from sklearn.metrics import confusion_matrix\n",
    "\n",
    "# creating a confusion matrix\n",
    "matrix = confusion_matrix(y_test, y_pred)\n",
    "\n",
    "# printing confusion matrix\n",
    "print(matrix)"
   ]
  },
  {
   "cell_type": "code",
   "execution_count": 52,
   "id": "d2ade8f5",
   "metadata": {},
   "outputs": [
    {
     "name": "stdout",
     "output_type": "stream",
     "text": [
      "[1.         0.97368421 1.         0.97368421 1.         1.\n",
      " 1.         1.         0.94736842 1.         1.         1.\n",
      " 1.         0.97297297 1.         1.         1.         1.\n",
      " 0.97297297 1.        ]\n",
      "mean accuracy : 0.9920341394025604\n",
      "mean standard variance : 0.014742703843634165\n"
     ]
    }
   ],
   "source": [
    "# k fold cross validation to avoid overfitting of the model\n",
    "\n",
    "from sklearn.model_selection import cross_val_score\n",
    "\n",
    "# accuracies for 20 different model's accuracy\n",
    "accuracies = cross_val_score(estimator = model, X = x_train, y = y_train, cv = 20)\n",
    "print(accuracies)\n",
    "\n",
    "#  mean of accuaracies obtained by all the models\n",
    "print(\"mean accuracy :\", accuracies.mean())\n",
    "\n",
    "# standard variance of the models\n",
    "print(\"mean standard variance :\", accuracies.std())"
   ]
  },
  {
   "cell_type": "markdown",
   "id": "24971bb3",
   "metadata": {},
   "source": [
    "### Applying Decision Tree Classifier to evaluate students, and displaying confusion matrix and kfold cross validation to avoid overfitting"
   ]
  },
  {
   "cell_type": "code",
   "execution_count": 53,
   "id": "bb2e0780",
   "metadata": {},
   "outputs": [
    {
     "name": "stdout",
     "output_type": "stream",
     "text": [
      "Training Accuracy : 1.0\n",
      "Testing Accuracy : 1.0\n"
     ]
    }
   ],
   "source": [
    "# Importing Decision Tree Classifier\n",
    "from sklearn.tree import DecisionTreeClassifier\n",
    "\n",
    "# creating a Decision Tree Classifier\n",
    "model = DecisionTreeClassifier()\n",
    "\n",
    "# training data into model\n",
    "model.fit(x_train, y_train)\n",
    "\n",
    "# predicting test data values\n",
    "y_pred = model.predict(x_test)\n",
    "\n",
    "# calculating accuracies\n",
    "print(\"Training Accuracy :\", model.score(x_train, y_train))\n",
    "print(\"Testing Accuracy :\", model.score(x_test, y_test))"
   ]
  },
  {
   "cell_type": "code",
   "execution_count": 54,
   "id": "7249b3e6",
   "metadata": {},
   "outputs": [
    {
     "name": "stdout",
     "output_type": "stream",
     "text": [
      "[[ 56   0]\n",
      " [  0 194]]\n"
     ]
    }
   ],
   "source": [
    "# Importing Confusion Matrix\n",
    "\n",
    "from sklearn.metrics import confusion_matrix\n",
    "\n",
    "# creating a confusion matrix\n",
    "matrix = confusion_matrix(y_test, y_pred)\n",
    "\n",
    "# printing confusion matrix\n",
    "print(matrix)"
   ]
  },
  {
   "cell_type": "code",
   "execution_count": 55,
   "id": "fc933d67",
   "metadata": {},
   "outputs": [
    {
     "name": "stdout",
     "output_type": "stream",
     "text": [
      "[1. 1. 1. 1. 1. 1. 1. 1. 1. 1. 1. 1. 1. 1. 1. 1. 1. 1. 1. 1.]\n",
      "mean accuracy : 1.0\n",
      "mean standard variance : 0.0\n"
     ]
    }
   ],
   "source": [
    "# k fold cross validation to avoid overfitting of the model\n",
    "\n",
    "from sklearn.model_selection import cross_val_score\n",
    "\n",
    "# accuracies for 20 different model's accuracy\n",
    "accuracies = cross_val_score(estimator = model, X = x_train, y = y_train, cv = 20)\n",
    "print(accuracies)\n",
    "\n",
    "#  mean of accuaracies obtained by all the models\n",
    "print(\"mean accuracy :\", accuracies.mean())\n",
    "\n",
    "# standard variance of the models\n",
    "print(\"mean standard variance :\", accuracies.std())"
   ]
  },
  {
   "cell_type": "code",
   "execution_count": null,
   "id": "fabdda6b",
   "metadata": {},
   "outputs": [],
   "source": []
  }
 ],
 "metadata": {
  "kernelspec": {
   "display_name": "Python 3 (ipykernel)",
   "language": "python",
   "name": "python3"
  },
  "language_info": {
   "codemirror_mode": {
    "name": "ipython",
    "version": 3
   },
   "file_extension": ".py",
   "mimetype": "text/x-python",
   "name": "python",
   "nbconvert_exporter": "python",
   "pygments_lexer": "ipython3",
   "version": "3.10.0"
  }
 },
 "nbformat": 4,
 "nbformat_minor": 5
}
